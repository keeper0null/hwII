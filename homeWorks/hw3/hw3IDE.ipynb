{
  "nbformat": 4,
  "nbformat_minor": 0,
  "metadata": {
    "colab": {
      "provenance": []
    },
    "kernelspec": {
      "name": "python3",
      "display_name": "Python 3"
    },
    "language_info": {
      "name": "python"
    }
  },
  "cells": [
    {
      "cell_type": "code",
      "execution_count": 1,
      "metadata": {
        "colab": {
          "base_uri": "https://localhost:8080/"
        },
        "id": "JFucN-KD-Mad",
        "outputId": "0dc6bacd-0e05-44e6-aa28-9199074e66b3"
      },
      "outputs": [
        {
          "output_type": "stream",
          "name": "stdout",
          "text": [
            "Яковлев Кирилл Георгиевич\n"
          ]
        }
      ],
      "source": [
        "print('Яковлев Кирилл Георгиевич')"
      ]
    }
  ]
}