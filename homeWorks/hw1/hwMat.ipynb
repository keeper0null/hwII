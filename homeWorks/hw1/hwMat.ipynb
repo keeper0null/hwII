{
  "nbformat": 4,
  "nbformat_minor": 0,
  "metadata": {
    "colab": {
      "provenance": []
    },
    "kernelspec": {
      "name": "python3",
      "display_name": "Python 3"
    },
    "language_info": {
      "name": "python"
    }
  },
  "cells": [
    {
      "cell_type": "markdown",
      "source": [
        "# Формулировка задания\n",
        "Решить задачи по высшей математике:\n",
        "\n",
        "Решить матрицы:\n",
        "\n",
        "$$\n",
        "\\left(\\begin{array}{cc}\n",
        "6 & -8 & 3\n",
        "\\end{array}\\right) *\n",
        "\\left(\\begin{array}{cc}\n",
        "1 \\\\\n",
        "1 \\\\\n",
        "4\n",
        "\\end{array}\\right) =\n",
        "\\left(\\begin{array}{cc}\n",
        "0\n",
        "\\end{array}\\right)\n",
        "$$\n",
        "\n",
        "$$\n",
        "\\left(\\begin{array}{cc}\n",
        "-3 & -7 \\\\\n",
        "-10 & 6 \\\\\n",
        "0 & -6 \\\\\n",
        "-1 & -3\n",
        "\\end{array}\\right) *\n",
        "\\left(\\begin{array}{cc}\n",
        "-8 & 9 \\\\\n",
        "4 & -2\n",
        "\\end{array}\\right) =\n",
        "\\left(\\begin{array}{cc}\n",
        "0 & 0 \\\\\n",
        "0 & 0 \\\\\n",
        "0 & 0 \\\\\n",
        "0 & 0\n",
        "\\end{array}\\right)\n",
        "$$"
      ],
      "metadata": {
        "id": "-LNbutPyBdDY"
      }
    },
    {
      "cell_type": "markdown",
      "source": [
        "## Решение с использованием библиотеки:"
      ],
      "metadata": {
        "id": "knw_5YX4Dn5I"
      }
    },
    {
      "cell_type": "code",
      "execution_count": 6,
      "metadata": {
        "id": "7Y0Dx2NW4dfh"
      },
      "outputs": [],
      "source": [
        "#подключаем библиотеку\n",
        "import numpy as np"
      ]
    },
    {
      "cell_type": "code",
      "source": [
        "A = np.matrix([[6, -8, 3]])\n",
        "B = np.matrix([[1],\n",
        "               [1],\n",
        "               [4]])\n",
        "A * B"
      ],
      "metadata": {
        "colab": {
          "base_uri": "https://localhost:8080/"
        },
        "id": "aH_Y1WHH5Op1",
        "outputId": "ef253581-430b-4061-e329-9bbd752c59ba"
      },
      "execution_count": 15,
      "outputs": [
        {
          "output_type": "execute_result",
          "data": {
            "text/plain": [
              "matrix([[10]])"
            ]
          },
          "metadata": {},
          "execution_count": 15
        }
      ]
    },
    {
      "cell_type": "code",
      "source": [
        "C = np.matrix([[ -3,  -7],\n",
        "               [-10,   6],\n",
        "               [  0,  -6],\n",
        "               [ -1,  -3]])\n",
        "\n",
        "D = np.matrix([[ -8,   9],\n",
        "               [  4,  -2]])\n",
        "C * D"
      ],
      "metadata": {
        "colab": {
          "base_uri": "https://localhost:8080/"
        },
        "id": "mre08iRpDsby",
        "outputId": "9c5a73a8-5b4e-4293-b6a4-763cb9e76058"
      },
      "execution_count": 16,
      "outputs": [
        {
          "output_type": "execute_result",
          "data": {
            "text/plain": [
              "matrix([[  -4,  -13],\n",
              "        [ 104, -102],\n",
              "        [ -24,   12],\n",
              "        [  -4,   -3]])"
            ]
          },
          "metadata": {},
          "execution_count": 16
        }
      ]
    },
    {
      "cell_type": "markdown",
      "source": [
        "## Решение с использованием циклов"
      ],
      "metadata": {
        "id": "sPlCBE91EDsg"
      }
    },
    {
      "cell_type": "code",
      "source": [
        "def multiply(A, B):\n",
        "  '''\n",
        "  Функция умножения\n",
        "  @param A - матрица 1 m на n\n",
        "  @param B - матрица 1 n на k\n",
        "  @returns результат умножения\n",
        "  '''\n",
        "  m = len(A)                                            # a: m × n\n",
        "  n = len(B)                                            # b: n × k\n",
        "  k = len(B[0])\n",
        "\n",
        "  result = [[None for __ in range(k)] for __ in range(m)]    # result: m × k\n",
        "  for i in range(m):\n",
        "    for j in range(k):\n",
        "        result[i][j] = sum(A[i][kk] * B[kk][j] for kk in range(n))\n",
        "  return result"
      ],
      "metadata": {
        "id": "Bt1vP2hjDsb2"
      },
      "execution_count": 9,
      "outputs": []
    },
    {
      "cell_type": "code",
      "source": [
        "a = [[6, -8, 3]]\n",
        "\n",
        "b =  [[1],\n",
        "      [1],\n",
        "      [4]]\n",
        "\n",
        "multiply(a, b)"
      ],
      "metadata": {
        "colab": {
          "base_uri": "https://localhost:8080/"
        },
        "id": "gYbfCJ14EXF2",
        "outputId": "c3feccc4-9b53-4b25-c7ff-3848836da3ca"
      },
      "execution_count": 13,
      "outputs": [
        {
          "output_type": "execute_result",
          "data": {
            "text/plain": [
              "[[10]]"
            ]
          },
          "metadata": {},
          "execution_count": 13
        }
      ]
    },
    {
      "cell_type": "code",
      "source": [
        "c =[[ -3,  -7],\n",
        "    [-10,   6],\n",
        "    [  0,  -6],\n",
        "    [ -1,  -3]]\n",
        "\n",
        "d = [[ -8,   9],\n",
        "     [  4,  -2]]\n",
        "\n",
        "multiply(c, d)"
      ],
      "metadata": {
        "colab": {
          "base_uri": "https://localhost:8080/"
        },
        "id": "Fy-o1ZpeJbxx",
        "outputId": "c8b78f62-bc06-41a1-9d77-018bfb23abdd"
      },
      "execution_count": 14,
      "outputs": [
        {
          "output_type": "execute_result",
          "data": {
            "text/plain": [
              "[[-4, -13], [104, -102], [-24, 12], [-4, -3]]"
            ]
          },
          "metadata": {},
          "execution_count": 14
        }
      ]
    }
  ]
}