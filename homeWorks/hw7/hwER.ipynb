{
  "nbformat": 4,
  "nbformat_minor": 0,
  "metadata": {
    "colab": {
      "provenance": []
    },
    "kernelspec": {
      "name": "python3",
      "display_name": "Python 3"
    },
    "language_info": {
      "name": "python"
    }
  },
  "cells": [
    {
      "cell_type": "markdown",
      "source": [
        "# 7. Домашнее задание по теме Базы данных и статистика\n",
        "## Формулировка задания:\n",
        "Отрисовать связи внутри датасета из Д/З №5.\n",
        "## Планируемый результат:\n",
        "Отрисованы таблицы БД и связи между ними.\n",
        "## Описания плана работы:\n",
        "Взять датасет из Д/З №5.\n",
        "Отрисовать его в одном из видов БД рассмотренных в лекции:\n",
        "• Реляционные  \n",
        "• NoSQL  \n",
        "• Key-Value  \n",
        "• Колоночные  \n",
        "• ВременнЫе  \n",
        "• Графовые  \n",
        "• In memory  \n",
        "*Отрисовать БД из Д/З во всех видах выше. В случае невозможности отрисовки\n",
        "досинтезировать данные.\n",
        "\n",
        "## Перечень инструментов, необходимых для реализации деятельности:\n",
        "1) https://app.diagrams.net/  \n",
        "2) Google Colab https://colab.research.google.com/\n",
        "\n",
        "## Решение\n",
        "По согласованию с куратором было получено разрешение на отрисовку схем в Mermaid\n"
      ],
      "metadata": {
        "id": "IRoHU7K30ooR"
      }
    },
    {
      "cell_type": "markdown",
      "source": [
        "## Реляционные"
      ],
      "metadata": {
        "id": "0fIu1w1m2gPP"
      }
    },
    {
      "cell_type": "markdown",
      "source": [
        "[![](https://mermaid.ink/img/pako:eNqtVUFr2zAY_StC16SHXHMevYzBYLcRMIqtpiaxHRRntJRA6u22scJOY9B2G2PnLE1W06zJX5D_Ud8nx42ruelK54stf_qe3nvfJ-mIu5EneZNL9cwXHSWCVsjw9MVgIMOOVOwo_0GPH8abgON77OVz1uL6s57pub7OEp1m73Sqr_QE38tszPQKn8fZsZ7o3wiO9aTFN3BvhHL3hWKhCCTh_ADSWdWEgTyg-Lle6kU5TnxEx-R-QuySFsBySTFnlL9i3-3KuCykAM4jTjgM2lCaqzkF0h89J_a_IGaBz4R4M8sHtwcnKOEL5hiVTF9l4-wtki6rhbqi7YfWGmTWxyzJ3pcTQEgq32V7Qhl1P8lfPbEY3REpg7ZQXelVySxiVsmqC4ZXGb6qUKeoZ0oCQGqppxhdYzyvyF6Ta0dCeX7Ycah7_qUQdba7tRhbe7JIfmpflm3bfaRtI2sbOT0_7D6wl57K24Z0et3_hErknfiwLzdWfAfEimHyUs9oz1EbWOJvs2zdj4Qr18SkPtSHkDLNTrAL0xIj-1xr1NjODmtYvdkk3K9AvIAT4AFGqdnUKDvGJwXg-kxpGIxaFcg3UFpCCKiBT3o3_Xa3bgE4N27QYTIlVwqIvNmoWDOqYYH4l7Ca3XwG9EyvADs3vbCAR5DFjN9zwFJ7fLinCBZYwXtT4_vhk8ra8jrHIRcI38PtYxqkxeN9GcgWJygP_tDaI8wTwzh6dRi6vBmroazzYd8TsVzfV7y5J3oD_JWeH0fqRX6dmVutzvsifB1FxZzRDTrmLW4?type=png)](https://mermaid.live/edit#pako:eNqtVUFr2zAY_StC16SHXHMevYzBYLcRMIqtpiaxHRRntJRA6u22scJOY9B2G2PnLE1W06zJX5D_Ud8nx42ruelK54stf_qe3nvfJ-mIu5EneZNL9cwXHSWCVsjw9MVgIMOOVOwo_0GPH8abgON77OVz1uL6s57pub7OEp1m73Sqr_QE38tszPQKn8fZsZ7o3wiO9aTFN3BvhHL3hWKhCCTh_ADSWdWEgTyg-Lle6kU5TnxEx-R-QuySFsBySTFnlL9i3-3KuCykAM4jTjgM2lCaqzkF0h89J_a_IGaBz4R4M8sHtwcnKOEL5hiVTF9l4-wtki6rhbqi7YfWGmTWxyzJ3pcTQEgq32V7Qhl1P8lfPbEY3REpg7ZQXelVySxiVsmqC4ZXGb6qUKeoZ0oCQGqppxhdYzyvyF6Ta0dCeX7Ycah7_qUQdba7tRhbe7JIfmpflm3bfaRtI2sbOT0_7D6wl57K24Z0et3_hErknfiwLzdWfAfEimHyUs9oz1EbWOJvs2zdj4Qr18SkPtSHkDLNTrAL0xIj-1xr1NjODmtYvdkk3K9AvIAT4AFGqdnUKDvGJwXg-kxpGIxaFcg3UFpCCKiBT3o3_Xa3bgE4N27QYTIlVwqIvNmoWDOqYYH4l7Ca3XwG9EyvADs3vbCAR5DFjN9zwFJ7fLinCBZYwXtT4_vhk8ra8jrHIRcI38PtYxqkxeN9GcgWJygP_tDaI8wTwzh6dRi6vBmroazzYd8TsVzfV7y5J3oD_JWeH0fqRX6dmVutzvsifB1FxZzRDTrmLW4)\n",
        "```javascript\n",
        "erDiagram\n",
        "    passenger {\n",
        "        int passenger_id PK \"Идентификатор пассажира\"\n",
        "        varchar name \"ФИО\"\n",
        "        varchar sex \"Пол\"\n",
        "        int age \"Возраст\"\n",
        "    }\n",
        "    ticket {\n",
        "        varchar ticket_number PK \"Номер билета\"\n",
        "        int pclass \"Класс круиза\"\n",
        "        varchar cabin \"Номер каюты\"\n",
        "        numeric fare \"Цена билета\"\n",
        "    }\n",
        "    embarked {\n",
        "        varchar embarked_id PK \"Идетификатор порта\"\n",
        "        varchar name \"Наименование порта\"\n",
        "    }\n",
        "    boarding_pass {\n",
        "        varchar ticket_number PK, FK \"Номер билета\"\n",
        "        int passenger_id PK, FK \"Идентификатор пассажира\"\n",
        "        varchar embarked_id FK \"Идетификатор порта\"\n",
        "    }\n",
        "    passenger_link {\n",
        "        int passenger_id PK, FK \"Идентификатор пассажира\"\n",
        "        int passenger_id_lk PK, FK \"Идентификатор пассажира\"\n",
        "        int link_type_id FK \"Тип родства\"\n",
        "    }\n",
        "    link_type {\n",
        "        int link_type_id PK \"Тип родства\"\n",
        "        varchar link_name \"Наименование связи\"\n",
        "    }\n",
        "\n",
        "    passenger 1+ -- 1 boarding_pass : \"Регистрируется\"\n",
        "    ticket 1 -- 1+ boarding_pass : \"Соотносится\"\n",
        "    embarked 1 -- 1+ boarding_pass : \"Производится посадка\"\n",
        "    passenger 1+ -- 1+ passenger_link : \"Определяет степень родства\"\n",
        "    passenger_link 1 -- 1+ link_type : \"Определяет тип родства\"\n",
        "```"
      ],
      "metadata": {
        "id": "2OqaYRkD0XJp"
      }
    },
    {
      "cell_type": "markdown",
      "source": [
        "## Key-Value"
      ],
      "metadata": {
        "id": "MczwiUxe2tge"
      }
    },
    {
      "cell_type": "markdown",
      "source": [
        "[![](https://mermaid.ink/img/pako:eNp1Ub0OgyAQfhVzs74A6di1U7eGxJxytUQBgzAY67sXRa029hYu3w_fwQ1QGkHAoGyw664SK4uK6yRUYdAKqau8DUxyeWdZ4mRZk_tLTx3piuxfBakCbU0iCjb9qX2eaKcZIjxVTT37Mrlc7hv3xjjrrymiufaqWHMOrnXAzTe7VvQ86fDOo_EsDlJQZBVKEb59lnNwL1LEgYVWhCQOXE869M7ce10Cc9ZTCr4V6GjZErAnNl1ASUhn7G3Z43Sk0KJ-GLNqxg8406Gp?type=png)](https://mermaid.live/edit#pako:eNp1Ub0OgyAQfhVzs74A6di1U7eGxJxytUQBgzAY67sXRa029hYu3w_fwQ1QGkHAoGyw664SK4uK6yRUYdAKqau8DUxyeWdZ4mRZk_tLTx3piuxfBakCbU0iCjb9qX2eaKcZIjxVTT37Mrlc7hv3xjjrrymiufaqWHMOrnXAzTe7VvQ86fDOo_EsDlJQZBVKEb59lnNwL1LEgYVWhCQOXE869M7ce10Cc9ZTCr4V6GjZErAnNl1ASUhn7G3Z43Sk0KJ-GLNqxg8406Gp)\n",
        "```javascript\n",
        "classDiagram\n",
        "    boarding_pass <|-- ticket\n",
        "    boarding_pass <|-- passenger\n",
        "    boarding_pass <|-- embarked\n",
        "    passenger <|-- passenger\n",
        "    class passenger {\n",
        "        key: passenger_id\n",
        "    }\n",
        "    class ticket{\n",
        "        key: ticket_number\n",
        "    }\n",
        "    class embarked{\n",
        "      key: embarked_id\n",
        "    }\n",
        "    class boarding_pass{\n",
        "      key: ticket_number\n",
        "    }\n",
        "```"
      ],
      "metadata": {
        "id": "oGYfLZZz1QHQ"
      }
    },
    {
      "cell_type": "markdown",
      "source": [
        "## ВременнЫе"
      ],
      "metadata": {
        "id": "zcXe2o9829BP"
      }
    },
    {
      "cell_type": "markdown",
      "source": [
        "[![](https://mermaid.ink/img/pako:eNqtk8FKw0AQhl9l2avtodecvYkgeJNA2CRru7TZhM2mIKXQ1oMHwV48CfoMqVgtjcZXmH0jZ9OW2tZSERdCMpv5Z77Z2enRIA45dShXx4I1FYtcSXBpEbS5Jr2FZVeXqaDF1PKPJ7PI54qcnRCXwiOU8A5TMyAwgRkU-DmC3KVkLRdSkyTosDS1ggf0yc3QDAnMzcBco-jNCnbTBcwXcivHHLV3ZmRuV4L-4qV4qlmmmNSeZn6Hf8e3-avNfeRIM0KjQJT5Jspe9BImZggF4r-i6hly-ICZGW9RpVx1RcC9Nd0_cf2lI2u1FpEFihLi86aQXsg0t8p7rA5dCdaSmxusqbDGgVI3A3IZ7oYrEb-Ejypkpf3N-e3pa4PU66Rx9NPROjbpE3yaAUzhBZ_CjG3xq6DLi304wjYaxsBWIByt0YiriIkQx6bqpEt1i0fcpVYaMtW2yfroxzIdn1_JgDpaZbxGs8Qey3LQqHPJOinu8lDoWJ0u5rAaxxpNmLyI45VP_wvfJqS0?type=png)](https://mermaid.live/edit#pako:eNqtk8FKw0AQhl9l2avtodecvYkgeJNA2CRru7TZhM2mIKXQ1oMHwV48CfoMqVgtjcZXmH0jZ9OW2tZSERdCMpv5Z77Z2enRIA45dShXx4I1FYtcSXBpEbS5Jr2FZVeXqaDF1PKPJ7PI54qcnRCXwiOU8A5TMyAwgRkU-DmC3KVkLRdSkyTosDS1ggf0yc3QDAnMzcBco-jNCnbTBcwXcivHHLV3ZmRuV4L-4qV4qlmmmNSeZn6Hf8e3-avNfeRIM0KjQJT5Jspe9BImZggF4r-i6hly-ICZGW9RpVx1RcC9Nd0_cf2lI2u1FpEFihLi86aQXsg0t8p7rA5dCdaSmxusqbDGgVI3A3IZ7oYrEb-Ejypkpf3N-e3pa4PU66Rx9NPROjbpE3yaAUzhBZ_CjG3xq6DLi304wjYaxsBWIByt0YiriIkQx6bqpEt1i0fcpVYaMtW2yfroxzIdn1_JgDpaZbxGs8Qey3LQqHPJOinu8lDoWJ0u5rAaxxpNmLyI45VP_wvfJqS0)\n",
        "\n",
        "```javascript\n",
        "erDiagram\n",
        "    ticket {\n",
        "        varchar ticket_number PK \"Номер билета\"\n",
        "        int pclass \"Класс круиза\"\n",
        "        varchar cabin \"Номер каюты\"\n",
        "    }\n",
        "    restaurant_table {\n",
        "        int table_number PK \"Номер столика\"\n",
        "        int pclass \"Класс обслуживания\"\n",
        "    }\n",
        "    service_restaurant {\n",
        "        int table_number PK \"Номер столика\"\n",
        "        varchar ticket_number PK \"Номер билета\"\n",
        "        timestamp begin_date \"Дата начала обслуживания\"\n",
        "        timestamp end_date \"Дата окончания обслуживания\"\n",
        "    }\n",
        "\n",
        "    restaurant_table 1 -- 1+ service_restaurant : \"Определяет\"\n",
        "    ticket 1 -- 1+ service_restaurant : \"Обслуживается\"\n",
        "```"
      ],
      "metadata": {
        "id": "a8CdHAwO2N7_"
      }
    },
    {
      "cell_type": "markdown",
      "source": [
        "## Графовые"
      ],
      "metadata": {
        "id": "D70VHXRs3HJ2"
      }
    },
    {
      "cell_type": "markdown",
      "source": [
        "[![](https://mermaid.ink/img/pako:eNqNk89KAzEQxl9lyEmhKy4tVRdv6qFgoaAgaDyE3bQNZpOSZMFSC7UePOhF8AX6BgXxqL7C7huZ7p-2K9viHkIy8-X7JZOdEfJlQJGHHMfBwjDDqQcnRBmqNHRJyPgQsEiTPidanzLSUyTEAuyXRqCtzpSg2txg1FZ7cMU4ZySELIjR7SgTA3SsmooeVa0APKgfuUVC03sPQsJpESA9e4p6M1uOyzB9HvmM05Sm_-JgJ8tCR_K73c3wg2ajBO_Sf-KZXuPbxR6sATfzGoXbZp7bqOIRbV8iv-MCma5Xt77sSyWMFNBqbYYf7te3V9p1l-hsUjwpHD84zqrm1iueJU_xTzKx40c8L9RFPpfnm8vqSudlORfi9_g7eU5eK4XrdciMX-Kvavw2z7Jym-nKpVr7lkzieTLN1aVsxTFm8WfymEwXe7BANRRSFRIW2L5L3wwj06chxciz04Ao-ydhMbY6Ehl5MRQ-8oyKaA1Fg4AYmjch8rqEaxulATNStbNGTvu5hgZEXEtZaMa_Yb1WmQ?type=png)](https://mermaid.live/edit#pako:eNqNk89KAzEQxl9lyEmhKy4tVRdv6qFgoaAgaDyE3bQNZpOSZMFSC7UePOhF8AX6BgXxqL7C7huZ7p-2K9viHkIy8-X7JZOdEfJlQJGHHMfBwjDDqQcnRBmqNHRJyPgQsEiTPidanzLSUyTEAuyXRqCtzpSg2txg1FZ7cMU4ZySELIjR7SgTA3SsmooeVa0APKgfuUVC03sPQsJpESA9e4p6M1uOyzB9HvmM05Sm_-JgJ8tCR_K73c3wg2ajBO_Sf-KZXuPbxR6sATfzGoXbZp7bqOIRbV8iv-MCma5Xt77sSyWMFNBqbYYf7te3V9p1l-hsUjwpHD84zqrm1iueJU_xTzKx40c8L9RFPpfnm8vqSudlORfi9_g7eU5eK4XrdciMX-Kvavw2z7Jym-nKpVr7lkzieTLN1aVsxTFm8WfymEwXe7BANRRSFRIW2L5L3wwj06chxciz04Ao-ydhMbY6Ehl5MRQ-8oyKaA1Fg4AYmjch8rqEaxulATNStbNGTvu5hgZEXEtZaMa_Yb1WmQ)\n",
        "```javascript\n",
        "---\n",
        "title: Carters family\n",
        "---\n",
        "classDiagram\n",
        "    class MrErnest[\"Mr. William Ernest\"]{\n",
        "      PassengerId : 391\n",
        "      sex: male\n",
        "      age: 36\n",
        "    }\n",
        "    class MrsLucile[\"Mrs. William Ernest (Lucile Polk)\"]{\n",
        "      PassengerId : 764\n",
        "      sex: female\n",
        "      age: 36\n",
        "    }\n",
        "    class MissLucile[\"Miss. Lucile Polk\"]{\n",
        "      PassengerId : 436\n",
        "      sex: female\n",
        "      age: 14\n",
        "    }\n",
        "    class MasterWilliam[\"Master. William Thornton II\"]{\n",
        "      PassengerId : 803\n",
        "      sex: male\n",
        "      age: 11\n",
        "    }\n",
        "\n",
        "    MrErnest <|-- MrsLucile : Супруга\n",
        "    MrsLucile <|-- MrErnest : Супруг\n",
        "    MrErnest <|-- MissLucile : Дочь\n",
        "    MrErnest <|-- MasterWilliam : Сын\n",
        "    MrsLucile <|-- MissLucile : Дочь\n",
        "    MrsLucile <|-- MasterWilliam : Сын\n",
        "    MissLucile <|-- MasterWilliam : Брат\n",
        "    MasterWilliam <|-- MissLucile : Сестра\n",
        "```\n"
      ],
      "metadata": {
        "id": "ADdPIuoQ3Nam"
      }
    }
  ]
}