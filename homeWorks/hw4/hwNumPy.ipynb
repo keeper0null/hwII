{
  "nbformat": 4,
  "nbformat_minor": 0,
  "metadata": {
    "colab": {
      "provenance": []
    },
    "kernelspec": {
      "name": "python3",
      "display_name": "Python 3"
    },
    "language_info": {
      "name": "python"
    }
  },
  "cells": [
    {
      "cell_type": "markdown",
      "source": [
        "# Домашнее задание №4\n",
        "# NumPy\n",
        "## Формулировка задания:  \n",
        "Научиться работать с фреймворком NumPy\n",
        "## План работы:\n",
        "1) Создать ноутбук в Google Colab  \n",
        "2) Решить предложенные математические задачи с помощью NumPy (1 и 2 задачи обязательны к выполнению, остальные желательны)  \n",
        "3) Открыть доступ для чтения ноутбука по ссылке  \n",
        "4) Прикрепить ссылку на ноутбук в качестве ответа на домашнее задание на\n",
        "платформе learn.innopolis.university  \n",
        "## Перечень инструментов, необходимых для реализации деятельности:\n",
        "Google Colab https://colab.research.google.com/"
      ],
      "metadata": {
        "id": "RajZ0hBErguR"
      }
    },
    {
      "cell_type": "code",
      "execution_count": 1,
      "metadata": {
        "id": "0xZUPXPyqWej"
      },
      "outputs": [],
      "source": [
        "# подключение библиотек\n",
        "import numpy as np"
      ]
    },
    {
      "cell_type": "markdown",
      "source": [
        "## Задача 1\n",
        "1. Выполнить операции над матрицами:  \n",
        "Даны матрицы  \n",
        "$$\n",
        "A = \\left(\\begin{array}{cc}\n",
        " 1 & 2 & 1 \\\\\n",
        "-2 & 1 & 1\n",
        "\\end{array}\\right),\n",
        "B = \\left(\\begin{array}{cc}\n",
        " 3 & 1 \\\\\n",
        "-1 & 0 \\\\\n",
        " 2 & 4\n",
        "\\end{array}\\right),\n",
        "C = \\left(\\begin{array}{cc}\n",
        "-2 &  2 \\\\\n",
        " 1 & -1 \\\\\n",
        " 1 &  2\n",
        "\\end{array}\\right)\n",
        "$$\n",
        "Найти  \n",
        "A + 2B  \n",
        "B + 2C"
      ],
      "metadata": {
        "id": "nF2MGtC_u4ou"
      }
    },
    {
      "cell_type": "code",
      "source": [
        "A = np.matrix([[ 1,  2,  1],\n",
        "               [-2,  1,  1]])\n",
        "B = np.matrix([[ 3,  1],\n",
        "               [-1,  0],\n",
        "               [ 2,  4]])\n",
        "C = np.matrix([[-2,  2],\n",
        "               [ 1, -1],\n",
        "               [ 1,  2]])"
      ],
      "metadata": {
        "id": "JLSfp8Uzqgqh"
      },
      "execution_count": 6,
      "outputs": []
    },
    {
      "cell_type": "code",
      "source": [
        "# матрицу А траспонируем т.к. Складывать допускается только матрицы одинаковой размерности.\n",
        "A.transpose() + 2 * B"
      ],
      "metadata": {
        "colab": {
          "base_uri": "https://localhost:8080/"
        },
        "id": "4PZeqgttvvWc",
        "outputId": "148b75e1-7f43-40eb-e4d8-8bb6b9a74e3f"
      },
      "execution_count": 44,
      "outputs": [
        {
          "output_type": "execute_result",
          "data": {
            "text/plain": [
              "matrix([[7, 0],\n",
              "        [0, 1],\n",
              "        [5, 9]])"
            ]
          },
          "metadata": {},
          "execution_count": 44
        }
      ]
    },
    {
      "cell_type": "code",
      "source": [
        "B + 2 * C"
      ],
      "metadata": {
        "colab": {
          "base_uri": "https://localhost:8080/"
        },
        "id": "gEBfItfPvwsV",
        "outputId": "69b22a91-7eb2-40de-d0eb-99181f5898ba"
      },
      "execution_count": 43,
      "outputs": [
        {
          "output_type": "execute_result",
          "data": {
            "text/plain": [
              "matrix([[-1,  5],\n",
              "        [ 1, -2],\n",
              "        [ 4,  8]])"
            ]
          },
          "metadata": {},
          "execution_count": 43
        }
      ]
    },
    {
      "cell_type": "markdown",
      "source": [
        "## Задача 2  \n",
        "1. Создать матрицу размером 8х8 элементов, состоящую из нулей. Заполнить\n",
        "эту матрицу значениями, расположенными в шахматном порядке.  \n",
        "Задачу решить через срезы массива NumPy (должно получиться буквально двумя\n",
        "командами).  \n",
        "Должно получиться так:\n",
        "$$\n",
        "\\left(\\begin{array}{cc}\n",
        "0 & 1 & 0 & 1 & 0 & 1 & 0 & 1 \\\\\n",
        "1 & 0 & 1 & 0 & 1 & 0 & 1 & 0 \\\\\n",
        "0 & 1 & 0 & 1 & 0 & 1 & 0 & 1 \\\\\n",
        "1 & 0 & 1 & 0 & 1 & 0 & 1 & 0 \\\\\n",
        "0 & 1 & 0 & 1 & 0 & 1 & 0 & 1 \\\\\n",
        "1 & 0 & 1 & 0 & 1 & 0 & 1 & 0 \\\\\n",
        "0 & 1 & 0 & 1 & 0 & 1 & 0 & 1 \\\\\n",
        "1 & 0 & 1 & 0 & 1 & 0 & 1 & 0 \\\\\n",
        "\\end{array}\\right)\n",
        "$$\n",
        "2. Вывести полученную матрицу на экран."
      ],
      "metadata": {
        "id": "ch8C5jMTu611"
      }
    },
    {
      "cell_type": "code",
      "source": [
        "matrix = np.zeros((8,8), dtype='int32')\n",
        "matrix[::2, 1::2] = 1\n",
        "matrix[1::2, ::2] = 1\n",
        "print(matrix)"
      ],
      "metadata": {
        "colab": {
          "base_uri": "https://localhost:8080/"
        },
        "id": "33EDAVTixWb8",
        "outputId": "ad052ef7-4225-4572-c60f-e4bfb90ef799"
      },
      "execution_count": 40,
      "outputs": [
        {
          "output_type": "stream",
          "name": "stdout",
          "text": [
            "[[0 1 0 1 0 1 0 1]\n",
            " [1 0 1 0 1 0 1 0]\n",
            " [0 1 0 1 0 1 0 1]\n",
            " [1 0 1 0 1 0 1 0]\n",
            " [0 1 0 1 0 1 0 1]\n",
            " [1 0 1 0 1 0 1 0]\n",
            " [0 1 0 1 0 1 0 1]\n",
            " [1 0 1 0 1 0 1 0]]\n"
          ]
        }
      ]
    },
    {
      "cell_type": "markdown",
      "source": [
        "## Задача 3*\n",
        "1. Сформировать два вектора: первый длиной 15 элементов со значениями от 0 до 1,4 с\n",
        "шагом 0,1; второй – длиной 6 элементов со значениями от 1 до 6.\n",
        "2. Преобразовать первый вектор в матрицу 5х3, а второй – в матрицу 3х2. Выполнить\n",
        "перемножение этих матриц. Сами матрицы и результат их перемножения вывести на экран."
      ],
      "metadata": {
        "id": "N4iAi4y-u7Tl"
      }
    },
    {
      "cell_type": "code",
      "source": [
        "vec01 = np.arange(start = 0, stop = 1.5, step = 0.1, dtype=\"float\")\n",
        "print(vec01)\n",
        "vec02 = np.linspace(start = 1, stop = 6, num = 6, dtype=\"int\")\n",
        "print(vec02)"
      ],
      "metadata": {
        "colab": {
          "base_uri": "https://localhost:8080/"
        },
        "id": "7RR7tQ9d25RY",
        "outputId": "0553f594-57c1-40ba-d553-eeb66c2632e9"
      },
      "execution_count": 50,
      "outputs": [
        {
          "output_type": "stream",
          "name": "stdout",
          "text": [
            "[0.  0.1 0.2 0.3 0.4 0.5 0.6 0.7 0.8 0.9 1.  1.1 1.2 1.3 1.4]\n",
            "[1 2 3 4 5 6]\n"
          ]
        }
      ]
    },
    {
      "cell_type": "code",
      "source": [
        "matrix53 = vec01.reshape(5, 3)\n",
        "print(matrix53)\n",
        "matrix32 = vec02.reshape(3, 2)\n",
        "print(matrix32)\n",
        "print(np.dot(matrix53, matrix32))"
      ],
      "metadata": {
        "colab": {
          "base_uri": "https://localhost:8080/"
        },
        "id": "0VF3weQkRi2q",
        "outputId": "a1a31298-f018-4d7f-8a5f-6c2359e025a3"
      },
      "execution_count": 57,
      "outputs": [
        {
          "output_type": "stream",
          "name": "stdout",
          "text": [
            "[[0.  0.1 0.2]\n",
            " [0.3 0.4 0.5]\n",
            " [0.6 0.7 0.8]\n",
            " [0.9 1.  1.1]\n",
            " [1.2 1.3 1.4]]\n",
            "[[1 2]\n",
            " [3 4]\n",
            " [5 6]]\n",
            "[[ 1.3  1.6]\n",
            " [ 4.   5.2]\n",
            " [ 6.7  8.8]\n",
            " [ 9.4 12.4]\n",
            " [12.1 16. ]]\n"
          ]
        }
      ]
    },
    {
      "cell_type": "markdown",
      "source": [
        "## Задача 4*\n",
        "1. Сформировать вектор из целых чисел (тип элементов должен быть int32) размерностью 36 и значениями 1, 3, 5, 7, … и так далее.  \n",
        "2. Выделить из этого вектора все элементы со значениями кратными 3. Вывести результат на экран (исходный вектор и с кратными числами).\n"
      ],
      "metadata": {
        "id": "4Q2nZuejS2Kw"
      }
    },
    {
      "cell_type": "code",
      "source": [
        "vec36 = np.arange(start = 1, stop = 72, step = 2, dtype=\"int32\")\n",
        "vec36mod3 = vec36[vec36 % 3 == 0]\n",
        "print(vec36)\n",
        "print(vec36mod3)"
      ],
      "metadata": {
        "colab": {
          "base_uri": "https://localhost:8080/"
        },
        "id": "dStnmij6S79R",
        "outputId": "47604fc7-e5e9-48e9-d73e-ed203b1b1b04"
      },
      "execution_count": 69,
      "outputs": [
        {
          "output_type": "stream",
          "name": "stdout",
          "text": [
            "[ 1  3  5  7  9 11 13 15 17 19 21 23 25 27 29 31 33 35 37 39 41 43 45 47\n",
            " 49 51 53 55 57 59 61 63 65 67 69 71]\n",
            "[ 3  9 15 21 27 33 39 45 51 57 63 69]\n"
          ]
        }
      ]
    }
  ]
}